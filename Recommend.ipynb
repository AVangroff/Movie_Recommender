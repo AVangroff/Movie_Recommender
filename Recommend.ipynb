{
 "cells": [
  {
   "cell_type": "code",
   "execution_count": 45,
   "id": "cb49876c-8569-4569-8114-1ca845a84ab3",
   "metadata": {},
   "outputs": [],
   "source": [
    "import pandas as pd\n",
    "\n",
    "movies = pd.read_csv(\"movies.csv\")"
   ]
  },
  {
   "cell_type": "code",
   "execution_count": 46,
   "id": "d635b0a5-5404-42ed-96a6-6c5b29d04a4a",
   "metadata": {},
   "outputs": [],
   "source": [
    "#movies"
   ]
  },
  {
   "cell_type": "code",
   "execution_count": 47,
   "id": "ceaad93f-f98f-47cd-bb93-890b582dd611",
   "metadata": {},
   "outputs": [],
   "source": [
    "import re\n",
    "\n",
    "def clean_title(title):\n",
    "    return re.sub(\"{^a-zA-Z0-0 }\", \"\", title)"
   ]
  },
  {
   "cell_type": "code",
   "execution_count": 48,
   "id": "01e64f7e-3245-4be4-9492-df1ed57e05c6",
   "metadata": {},
   "outputs": [],
   "source": [
    "movies[\"clean_title\"] = movies[\"title\"].apply(clean_title)"
   ]
  },
  {
   "cell_type": "code",
   "execution_count": 49,
   "id": "74b7c050-168b-4e55-af37-beb20dfa10a5",
   "metadata": {},
   "outputs": [],
   "source": [
    "#movies"
   ]
  },
  {
   "cell_type": "code",
   "execution_count": 50,
   "id": "7a368ecb-a94f-46c1-87e1-e7c327deb13c",
   "metadata": {},
   "outputs": [],
   "source": [
    "from sklearn.feature_extraction.text import TfidfVectorizer\n",
    "\n",
    "vectorizer = TfidfVectorizer(ngram_range=(1,2))\n",
    "\n",
    "tfidf = vectorizer.fit_transform(movies[\"clean_title\"])"
   ]
  },
  {
   "cell_type": "code",
   "execution_count": 53,
   "id": "ac5b2871-69eb-4dd2-a310-70bbd51fdbe7",
   "metadata": {},
   "outputs": [],
   "source": [
    "from sklearn.metrics.pairwise import cosine_similarity\n",
    "import numpy as np\n",
    "\n",
    "def search(title):\n",
    "    title = clean_title(title)\n",
    "    query_vec = vectorizer.transform([title])\n",
    "    similarity = cosine_similarity(query_vec, tfidf).flatten()\n",
    "    indices = np.argpartition(similarity, -5)[-5:]\n",
    "    results = movies.iloc[indices][::-1]\n",
    "    return results"
   ]
  },
  {
   "cell_type": "code",
   "execution_count": 54,
   "id": "c4a23f30-be58-49f1-904e-4e3059130f80",
   "metadata": {},
   "outputs": [],
   "source": [
    "import ipywidgets as widgets\n",
    "from IPython.display import display\n",
    "\n",
    "movie_input = widgets.Text(\n",
    "    value=\"Toy Story\",\n",
    "    description=\"Movie Title:\",\n",
    "    disabled=False\n",
    ")\n",
    "movie_list = widgets.Output()\n",
    "\n",
    "def on_type(data):\n",
    "    with movie_list:\n",
    "        movie_list.clear_output()\n",
    "        title = data[\"new\"]\n",
    "        if len(title) > 5:\n",
    "            display(search(title))\n",
    "\n",
    "movie_input.observe(on_type, names='value')\n",
    "\n",
    "#display(movie_input, movie_list)"
   ]
  },
  {
   "cell_type": "code",
   "execution_count": 55,
   "id": "6916be24-b340-4437-a328-af8c5f81b545",
   "metadata": {},
   "outputs": [],
   "source": [
    "movie_id = 89745\n",
    "movie = movies[movies[\"movieId\"] == movie_id]"
   ]
  },
  {
   "cell_type": "code",
   "execution_count": 57,
   "id": "ed3c044d-2dc2-4253-b3d7-27a2c2f1eef4",
   "metadata": {},
   "outputs": [],
   "source": [
    "ratings = pd.read_csv(\"ratings.csv\")"
   ]
  },
  {
   "cell_type": "code",
   "execution_count": 58,
   "id": "0fefcf70-1aab-47f6-926d-f6e125695746",
   "metadata": {},
   "outputs": [],
   "source": [
    "#ratings.dtypes"
   ]
  },
  {
   "cell_type": "code",
   "execution_count": 59,
   "id": "28bf7a95-4321-44db-b7a6-1ea4f88d1386",
   "metadata": {},
   "outputs": [],
   "source": [
    "similar_users = ratings[(ratings[\"movieId\"] == movie_id) & (ratings[\"rating\"] >=4)][\"userId\"].unique()"
   ]
  },
  {
   "cell_type": "code",
   "execution_count": 60,
   "id": "771f2ee2-0d9f-4ff7-8be3-d07f28920590",
   "metadata": {},
   "outputs": [],
   "source": [
    "similar_user_recs = ratings[(ratings[\"userId\"].isin(similar_users)) & (ratings[\"rating\"] >4)][\"movieId\"]"
   ]
  },
  {
   "cell_type": "code",
   "execution_count": 61,
   "id": "ef1c9cbc-78da-43ee-bfb3-31592a76769a",
   "metadata": {},
   "outputs": [],
   "source": [
    "similar_user_recs = similar_user_recs.value_counts() / len(similar_users)\n",
    "\n",
    "similar_user_recs = similar_user_recs[similar_user_recs > .1]"
   ]
  },
  {
   "cell_type": "code",
   "execution_count": 62,
   "id": "5dffa8ad-fa15-4ab4-b18f-e450a3fcd3ed",
   "metadata": {},
   "outputs": [],
   "source": [
    "#similar_user_recs"
   ]
  },
  {
   "cell_type": "code",
   "execution_count": 63,
   "id": "549cb99b-c767-4a23-ab09-4be8ce90efb4",
   "metadata": {},
   "outputs": [],
   "source": [
    "#similar_user_recs.value_counts()"
   ]
  },
  {
   "cell_type": "code",
   "execution_count": 64,
   "id": "6e918320-8f02-4741-a8a5-6c582ff6aa38",
   "metadata": {},
   "outputs": [],
   "source": [
    "all_users = ratings[(ratings[\"movieId\"].isin(similar_user_recs.index)) & (ratings[\"rating\"] > 4)]"
   ]
  },
  {
   "cell_type": "code",
   "execution_count": 65,
   "id": "4b9bcb66-cd48-4f0d-b51f-0906ae47a593",
   "metadata": {},
   "outputs": [],
   "source": [
    "all_users_recs = all_users[\"movieId\"].value_counts() / len(all_users[\"userId\"].unique())"
   ]
  },
  {
   "cell_type": "code",
   "execution_count": 66,
   "id": "668634ee-1c2b-4246-a902-869182b39363",
   "metadata": {},
   "outputs": [],
   "source": [
    "#all_users_recs"
   ]
  },
  {
   "cell_type": "code",
   "execution_count": 67,
   "id": "33611304-09be-4525-94a8-71a28f70ab10",
   "metadata": {},
   "outputs": [],
   "source": [
    "rec_percentages = pd.concat([similar_user_recs, all_users_recs], axis=1) \n",
    "rec_percentages.columns = [\"similar\", \"all\"]"
   ]
  },
  {
   "cell_type": "code",
   "execution_count": 68,
   "id": "48191b13-c421-445d-91a9-82914e2af8ac",
   "metadata": {},
   "outputs": [],
   "source": [
    "#rec_percentages"
   ]
  },
  {
   "cell_type": "code",
   "execution_count": 69,
   "id": "ef2df1c7-ca85-4048-8489-e29749bfc352",
   "metadata": {},
   "outputs": [],
   "source": [
    "rec_percentages[\"score\"] = rec_percentages[\"similar\"] / rec_percentages[\"all\"]"
   ]
  },
  {
   "cell_type": "code",
   "execution_count": 70,
   "id": "1ca03a4b-bfd5-4827-89bc-501aa7633167",
   "metadata": {},
   "outputs": [],
   "source": [
    "rec_percentages = rec_percentages.sort_values(\"score\", ascending=False)"
   ]
  },
  {
   "cell_type": "code",
   "execution_count": 71,
   "id": "0299f8e9-85cc-43b4-9bc9-11db4761a069",
   "metadata": {},
   "outputs": [],
   "source": [
    "#rec_percentages"
   ]
  },
  {
   "cell_type": "code",
   "execution_count": 72,
   "id": "79e5eaac-64cf-4de2-9442-ce69421974e8",
   "metadata": {},
   "outputs": [],
   "source": [
    "#rec_percentages.head(10).merge(movies, left_index=True, right_on=\"movieId\")"
   ]
  },
  {
   "cell_type": "code",
   "execution_count": 73,
   "id": "4d4fe02c-8e4b-446a-9ca4-e91fcba37cc9",
   "metadata": {},
   "outputs": [],
   "source": [
    "def find_similar_movies(movie_id):\n",
    "    #Finding rec from similar users\n",
    "    similar_users = ratings[(ratings[\"movieId\"] == movie_id) & (ratings[\"rating\"] >=4)][\"userId\"].unique()\n",
    "    similar_user_recs = ratings[(ratings[\"userId\"].isin(similar_users)) & (ratings[\"rating\"] >4)][\"movieId\"]\n",
    "    \n",
    "    #Only when over 10% of users recommended\n",
    "    similar_user_recs = similar_user_recs.value_counts() / len(similar_users)\n",
    "    similar_user_recs = similar_user_recs[similar_user_recs > .1]\n",
    "\n",
    "    #How common recs were between all of the users\n",
    "    all_users = ratings[(ratings[\"movieId\"].isin(similar_user_recs.index)) & (ratings[\"rating\"] > 4)]\n",
    "    all_users_recs = all_users[\"movieId\"].value_counts() / len(all_users[\"userId\"].unique())\n",
    "\n",
    "    rec_percentages = pd.concat([similar_user_recs, all_users_recs], axis=1) \n",
    "    rec_percentages.columns = [\"similar\", \"all\"]\n",
    "    \n",
    "    rec_percentages[\"score\"] = rec_percentages[\"similar\"] / rec_percentages[\"all\"]\n",
    "    \n",
    "    rec_percentages = rec_percentages.sort_values(\"score\", ascending=False)\n",
    "    return rec_percentages.head(10).merge(movies, left_index=True, right_on=\"movieId\")[[\"score\", \"title\", \"genres\"]]"
   ]
  },
  {
   "cell_type": "code",
   "execution_count": 74,
   "id": "99ec2981-181d-4b3b-a02d-cf60505e19db",
   "metadata": {},
   "outputs": [
    {
     "data": {
      "application/vnd.jupyter.widget-view+json": {
       "model_id": "01e28ae06cd04c11bcb0213ef9b1a906",
       "version_major": 2,
       "version_minor": 0
      },
      "text/plain": [
       "Text(value='Toy Story', description='Movie Title:')"
      ]
     },
     "metadata": {},
     "output_type": "display_data"
    },
    {
     "data": {
      "application/vnd.jupyter.widget-view+json": {
       "model_id": "9e72074f106d485e9b7ef4b41815969a",
       "version_major": 2,
       "version_minor": 0
      },
      "text/plain": [
       "Output()"
      ]
     },
     "metadata": {},
     "output_type": "display_data"
    }
   ],
   "source": [
    "movie_name_input = widgets.Text(\n",
    "    value=\"Toy Story\",\n",
    "    description=\"Movie Title:\",\n",
    "    disabled=False\n",
    ")\n",
    "\n",
    "recommendation_list = widgets.Output()\n",
    "\n",
    "def on_type(data):\n",
    "    with recommendation_list:\n",
    "        recommendation_list.clear_output()\n",
    "        title = data[\"new\"]\n",
    "        if len(title) > 5:\n",
    "            results = search(title)\n",
    "            movie_id = results.iloc[0][\"movieId\"]\n",
    "            display(find_similar_movies(movie_id))\n",
    "\n",
    "movie_name_input.observe(on_type, names=\"value\")\n",
    "\n",
    "display(movie_name_input, recommendation_list)"
   ]
  }
 ],
 "metadata": {
  "kernelspec": {
   "display_name": "Python [conda env:base] *",
   "language": "python",
   "name": "conda-base-py"
  },
  "language_info": {
   "codemirror_mode": {
    "name": "ipython",
    "version": 3
   },
   "file_extension": ".py",
   "mimetype": "text/x-python",
   "name": "python",
   "nbconvert_exporter": "python",
   "pygments_lexer": "ipython3",
   "version": "3.13.5"
  }
 },
 "nbformat": 4,
 "nbformat_minor": 5
}
